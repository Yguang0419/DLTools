{
 "cells": [
  {
   "cell_type": "code",
   "execution_count": 1,
   "metadata": {},
   "outputs": [],
   "source": [
    "import os"
   ]
  },
  {
   "cell_type": "markdown",
   "metadata": {},
   "source": [
    "任务描述：删除文件夹内所有文件名前缀的后三个字母，例如xxxx_gt====>xxxx"
   ]
  },
  {
   "cell_type": "code",
   "execution_count": 2,
   "metadata": {},
   "outputs": [],
   "source": [
    "def remove_suffix_from_filenames(directory):\n",
    "    # 遍历指定目录下的所有文件\n",
    "    for filename in os.listdir(directory):\n",
    "        # 拼接完整的文件路径\n",
    "        full_path = os.path.join(directory, filename)\n",
    "        # 检查是否为文件\n",
    "        if os.path.isfile(full_path):\n",
    "            # 获取文件名和扩展名\n",
    "            name, extension = os.path.splitext(filename)\n",
    "            # 去掉文件名前缀的最后三个字符\n",
    "            new_name = name[:-3] + extension\n",
    "            # 新的完整文件路径\n",
    "            new_full_path = os.path.join(directory, new_name)\n",
    "            # 重命名文件\n",
    "            os.rename(full_path, new_full_path)"
   ]
  },
  {
   "cell_type": "code",
   "execution_count": 4,
   "metadata": {},
   "outputs": [],
   "source": [
    "# 调用函数并传入目录路径\n",
    "remove_suffix_from_filenames(r'E:\\PYcharm_workspace\\PSCC-Net\\PSCC-Net-main\\dataset\\PreTrain\\CASIA2.0\\Gt')"
   ]
  },
  {
   "cell_type": "code",
   "execution_count": null,
   "metadata": {},
   "outputs": [],
   "source": []
  }
 ],
 "metadata": {
  "kernelspec": {
   "display_name": "base",
   "language": "python",
   "name": "python3"
  },
  "language_info": {
   "codemirror_mode": {
    "name": "ipython",
    "version": 3
   },
   "file_extension": ".py",
   "mimetype": "text/x-python",
   "name": "python",
   "nbconvert_exporter": "python",
   "pygments_lexer": "ipython3",
   "version": "3.9.13"
  }
 },
 "nbformat": 4,
 "nbformat_minor": 2
}
