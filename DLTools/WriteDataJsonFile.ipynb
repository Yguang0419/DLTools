{
 "cells": [
  {
   "cell_type": "code",
   "execution_count": 9,
   "metadata": {},
   "outputs": [],
   "source": [
    "import os\n",
    "import json"
   ]
  },
  {
   "cell_type": "markdown",
   "metadata": {},
   "source": [
    "功能：读取数据集，并生成json文件，文件格式如：           [\n",
    "                [\"./Tp/6.jpg\", \"./Gt/6.jpg\"],\n",
    "                [\"./Tp/7.jpg\", \"./Gt/7.jpg\"],\n",
    "                [\"./Tp/8.jpg\", \"Negative\"],\n",
    "                ......\n",
    "            ]"
   ]
  },
  {
   "cell_type": "code",
   "execution_count": 58,
   "metadata": {},
   "outputs": [],
   "source": [
    "base_path=r'E:/PYcharm_workspace/PSCC-Net/PSCC-Net-main/dataset/PreTrain/CASIA2.0'\n",
    "# 定义目录路径\n",
    "dir_tp = base_path+\"/Tp\"\n",
    "dir_gt = base_path+\"/Gt\"\n",
    "# 用于存储文件路径对的列表\n",
    "file_pairs = []\n",
    "# 用于存储文件路径对的字典，键是前缀名\n",
    "file_pairs_dict = {}"
   ]
  },
  {
   "cell_type": "code",
   "execution_count": 59,
   "metadata": {},
   "outputs": [],
   "source": [
    "# 先读取Tp目录下的文件\n",
    "for file_name in os.listdir(dir_tp):\n",
    "    base_name, ext = os.path.splitext(file_name)  # 分离文件名和扩展名\n",
    "    # tp_path = os.path.join(dir_tp, file_name)\n",
    "    tp_path = dir_tp +'/'+  file_name\n",
    "    # 如果字典中还没有这个前缀名，就添加一个空列表\n",
    "    if base_name not in file_pairs_dict:\n",
    "        file_pairs_dict[base_name] = [tp_path, \"Negative\"]  # 初始化时设置Gt为Negative\n",
    "    \n",
    "    # 已存在则更新Tp目录下的文件路径\n",
    "    else:\n",
    "        file_pairs_dict[base_name][0] = tp_path\n"
   ]
  },
  {
   "cell_type": "code",
   "execution_count": 60,
   "metadata": {},
   "outputs": [],
   "source": [
    "# 再读取Gt目录下的文件，并尝试与Tp目录下的文件配对\n",
    "for file_name in os.listdir(dir_gt):\n",
    "    base_name, _ = os.path.splitext(file_name)\n",
    "    \n",
    "    # 如果前缀名在字典中，说明Tp目录下有对应的文件\n",
    "    if base_name in file_pairs_dict:\n",
    "        gt_path = dir_gt+'/'+ file_name\n",
    "        \n",
    "        # 更新Gt目录下的文件路径\n",
    "        file_pairs_dict[base_name][1] = gt_path"
   ]
  },
  {
   "cell_type": "code",
   "execution_count": 61,
   "metadata": {},
   "outputs": [
    {
     "name": "stdout",
     "output_type": "stream",
     "text": [
      "JSON文件已生成\n"
     ]
    }
   ],
   "source": [
    "# 将字典转换为列表，确保每个文件对都有Tp和Gt两个元素\n",
    "file_pairs_list = [pair for pair in file_pairs_dict.values()]\n",
    "\n",
    "# 将列表转换为JSON格式并写入文件\n",
    "with open('Casiav2.0_2.json', 'w') as json_file:\n",
    "    json.dump(file_pairs_list, json_file, indent=4)\n",
    "\n",
    "print(\"JSON文件已生成\")"
   ]
  },
  {
   "cell_type": "code",
   "execution_count": null,
   "metadata": {},
   "outputs": [],
   "source": []
  }
 ],
 "metadata": {
  "kernelspec": {
   "display_name": "Python 3",
   "language": "python",
   "name": "python3"
  },
  "language_info": {
   "codemirror_mode": {
    "name": "ipython",
    "version": 3
   },
   "file_extension": ".py",
   "mimetype": "text/x-python",
   "name": "python",
   "nbconvert_exporter": "python",
   "pygments_lexer": "ipython3",
   "version": "3.9.13"
  }
 },
 "nbformat": 4,
 "nbformat_minor": 2
}
